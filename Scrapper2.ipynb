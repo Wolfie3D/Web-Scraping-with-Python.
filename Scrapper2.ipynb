{
 "cells": [
  {
   "cell_type": "code",
   "execution_count": 80,
   "metadata": {},
   "outputs": [],
   "source": [
    "from bs4 import BeautifulSoup\n",
    "import requests\n",
    "import csv\n",
    "import pandas as pd"
   ]
  },
  {
   "cell_type": "code",
   "execution_count": 81,
   "metadata": {},
   "outputs": [],
   "source": [
    "def get_clinic_name(clinic_id):\n",
    "      url = f'https://{clinic_id}.portal.athenahealth.com/'\n",
    "      req = requests.get(url).text\n",
    "      sourcode = BeautifulSoup(req, 'html.parser')\n",
    "      clinic_name = sourcode.find_all('h1')[-1].text.strip()\n",
    "      return clinic_name"
   ]
  },
  {
   "cell_type": "code",
   "execution_count": 82,
   "metadata": {},
   "outputs": [],
   "source": [
    "start = 5000\n",
    "end = 18000"
   ]
  },
  {
   "cell_type": "code",
   "execution_count": 83,
   "metadata": {},
   "outputs": [],
   "source": [
    "all_clinic = []\n",
    "\n",
    "for clinic_id in range(start, end+1):\n",
    "      data_dict = {}\n",
    "      data_dict['clinic_id'] = clinic_id\n",
    "      data_dict['clinic_name'] = get_clinic_name(clinic_id)\n",
    "      \n",
    "      if data_dict['clinic_name'] != 'Payment Confirmation' and data_dict['clinic_name'] != \"Sorry, we can't find that practice. Make sure you typed the right address.\":\n",
    "            all_clinic.append(data_dict)\n",
    "      "
   ]
  },
  {
   "cell_type": "code",
   "execution_count": null,
   "metadata": {},
   "outputs": [],
   "source": [
    "data = pd.DataFrame(all_clinic)"
   ]
  },
  {
   "cell_type": "code",
   "execution_count": null,
   "metadata": {},
   "outputs": [],
   "source": [
    "data.to_csv('all_the_clinics.csv', index='False')"
   ]
  }
 ],
 "metadata": {
  "kernelspec": {
   "display_name": "Python 3",
   "language": "python",
   "name": "python3"
  },
  "language_info": {
   "codemirror_mode": {
    "name": "ipython",
    "version": 3
   },
   "file_extension": ".py",
   "mimetype": "text/x-python",
   "name": "python",
   "nbconvert_exporter": "python",
   "pygments_lexer": "ipython3",
   "version": "3.10.6"
  },
  "orig_nbformat": 4
 },
 "nbformat": 4,
 "nbformat_minor": 2
}
